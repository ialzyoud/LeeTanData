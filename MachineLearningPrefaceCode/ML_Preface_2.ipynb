{
 "cells": [
  {
   "cell_type": "code",
   "execution_count": null,
   "metadata": {},
   "outputs": [],
   "source": [
    "import numpy as np\n",
    "import pandas as pd\n",
    "import matplotlib\n",
    "%matplotlib notebook\n",
    "import matplotlib.pyplot as plt\n",
    "from sklearn.neural_network import MLPRegressor\n",
    "from sklearn.linear_model import Ridge\n",
    "from mpl_toolkits.mplot3d import Axes3D\n",
    "import os\n",
    "if not os.path.isdir('images'):\n",
    "    os.mkdir('images')\n",
    "np.random.seed(0)\n",
    "#%matplotlib tk\n",
    "\n",
    "# from IPython.core.display import display, HTML\n",
    "# display(HTML(\"<style>.container { width:80% !important; }</style>\"))\n",
    "\n",
    "NUM_SAMPLES = int(2e3)\n",
    "\n",
    "brand_spend = np.random.rand(NUM_SAMPLES)\n",
    "d2c_spend = np.random.rand(NUM_SAMPLES)\n",
    "individual_contributions = brand_spend * .01 + d2c_spend * .02\n",
    "collaboration = np.square(brand_spend) * d2c_spend * 10\n",
    "sales = individual_contributions + collaboration + np.random.rand(NUM_SAMPLES)/10\n",
    "\n",
    "\n",
    "def model_sales_regression(dataset, model='Ridge'):\n",
    "    num_samples = dataset.shape[0]\n",
    "    cutoff = (num_samples * 3) // 4\n",
    "    Xtrn = dataset.drop('sales', 1).iloc[:cutoff,:]\n",
    "    Ytrn = dataset['sales'].iloc[:cutoff]\n",
    "    Xval = dataset.drop('sales', 1).iloc[cutoff:,:]\n",
    "    Yval = dataset['sales'].iloc[cutoff:]\n",
    "    model = Ridge().fit(Xtrn, Ytrn)\n",
    "    coefs = model.coef_.round(2)\n",
    "    yhat = model.predict(dataset.drop('sales', 1))\n",
    "    yhatval = model.predict(Xval)\n",
    "    loss = np.square(Yval - yhatval).mean()\n",
    "    \n",
    "    print('learned coefficients', list(zip(X.columns, coefs)))\n",
    "    print('loss:', loss)\n",
    "    print('intercept', model.intercept_.round(2))\n",
    "    \n",
    "    return model, yhat, coefs, loss\n",
    "\n",
    "def graph_real_and_predicted(dataset, yhat, fname=None):\n",
    "    X = dataset.drop('sales', 1)\n",
    "    Y = dataset['sales']\n",
    "    X1 = X['brand']\n",
    "    X2 = X['d2c']\n",
    "    fig = plt.figure(dpi=80, figsize=(10, 4))\n",
    "    ax = fig.add_subplot(111, projection='3d')\n",
    "    ax.scatter(X1, X2, Y, c='r', label='real sales', s = 1)\n",
    "    ax.scatter(X1, X2, yhat, c='b', label='estimated sales', s = 1)\n",
    "    ax.set_xlabel('Brand Marketing')\n",
    "    ax.set_ylabel('Direct to Consumer')\n",
    "    ax.set_zlabel('Sales')\n",
    "    plt.legend()\n",
    "    if fname is not None:\n",
    "        plt.savefig('images/' + fname + '.jpg')\n"
   ]
  },
  {
   "cell_type": "code",
   "execution_count": null,
   "metadata": {
    "scrolled": true
   },
   "outputs": [],
   "source": [
    "\n",
    "dataset = pd.DataFrame({\n",
    "    'brand': brand_spend,\n",
    "    'd2c': d2c_spend,\n",
    "    'sales': sales\n",
    "}).round(5)\n",
    "\n",
    "X = dataset.drop('sales', 1)\n",
    "Y = dataset['sales']\n",
    "X1 = X['brand']\n",
    "X2 = X['d2c']\n",
    "fig = plt.figure(dpi=80, figsize = (10, 4))\n",
    "ax = fig.add_subplot(111, projection='3d')\n",
    "ax.scatter(X1, X2, Y, c='r', label='real sales', s = 1)\n",
    "ax.set_xlabel('Brand Marketing')\n",
    "ax.set_ylabel('Direct to Consumer')\n",
    "ax.set_zlabel('Sales')\n",
    "plt.legend()\n",
    "plt.savefig('images/data.jpg')\n"
   ]
  },
  {
   "cell_type": "code",
   "execution_count": null,
   "metadata": {},
   "outputs": [],
   "source": [
    "\n",
    "model, yhat, coefs, loss = model_sales_regression(dataset)\n",
    "graph_real_and_predicted(dataset, yhat, 'linear')"
   ]
  },
  {
   "cell_type": "code",
   "execution_count": null,
   "metadata": {
    "scrolled": false
   },
   "outputs": [],
   "source": [
    "dataset['brand * d2c'] = dataset['brand'] * dataset['d2c']\n",
    "model, yhat, coefs, loss = model_sales_regression(dataset)\n",
    "graph_real_and_predicted(dataset, yhat, 'feature_engineering')"
   ]
  },
  {
   "cell_type": "code",
   "execution_count": null,
   "metadata": {},
   "outputs": [],
   "source": [
    "\n",
    "def model_sales_MLP(dataset, hidden, print_coefs = True, max_iter= 10000):\n",
    "    num_samples = dataset.shape[0]\n",
    "    cutoff = (num_samples * 3) // 4\n",
    "    Xtrn = dataset.drop('sales', 1).iloc[:cutoff,:]\n",
    "    Ytrn = dataset['sales'].iloc[:cutoff]\n",
    "    Xval = dataset.drop('sales', 1).iloc[cutoff:,:]\n",
    "    Yval = dataset['sales'].iloc[cutoff:]\n",
    "    model = MLPRegressor(hidden, validation_fraction = 0, solver='lbfgs', max_iter= max_iter).fit(Xtrn, Ytrn)\n",
    "    coefs = model.coefs_\n",
    "    yhat = model.predict(X)\n",
    "    yhatval = model.predict(Xval)\n",
    "    loss = np.square(Yval - yhatval).mean()\n",
    "    hiddens = coefs[0].T\n",
    "    final_mlp = coefs[1].flatten()\n",
    "    \n",
    "    coefs = list(zip([dict(zip(X.columns, h)) for h in hiddens],\n",
    "                     [['output mult:', m] for m in  final_mlp.flatten()], \n",
    "                     [['intercept:', i] for i in  model.intercepts_[0]]))\n",
    "    print('loss:', loss)\n",
    "    if print_coefs:\n",
    "        for idx, c in enumerate(coefs):\n",
    "            f1, o, i = c\n",
    "            print('feature', idx, '=', f1['brand'].round(2), '* brand +', \n",
    "                  f1['d2c'].round(2), '* d2c', '+', i[1].round(2))\n",
    "        output = 'yhat = '\n",
    "        for fidx, v in enumerate(final_mlp):\n",
    "            output = output + str(v.round(2)) + ' * feat ' + str(fidx) + ' + '\n",
    "        output = output + str(model.intercepts_[1][0].round(2))\n",
    "        print(output)\n",
    "    return model, yhat, coefs, loss"
   ]
  },
  {
   "cell_type": "code",
   "execution_count": null,
   "metadata": {
    "scrolled": false
   },
   "outputs": [],
   "source": [
    "\n",
    "dataset = pd.DataFrame({\n",
    "    'brand': brand_spend,\n",
    "    'd2c': d2c_spend,\n",
    "    'sales': sales\n",
    "}).round(5)\n",
    "\n",
    "model, yhat, coefs, loss = model_sales_MLP(dataset, [6])\n",
    "graph_real_and_predicted(dataset, yhat, 'neural_network')"
   ]
  },
  {
   "cell_type": "code",
   "execution_count": null,
   "metadata": {},
   "outputs": [],
   "source": [
    "dataset.head()"
   ]
  },
  {
   "cell_type": "code",
   "execution_count": null,
   "metadata": {},
   "outputs": [],
   "source": [
    "for idx, c in enumerate(coefs):\n",
    "    f1, o, i = c\n",
    "    print('feature', idx, '=', f1['brand'].round(2), '* brand +', f1['d2c'].round(2), '* d2c', '+', i[1].round(2))"
   ]
  },
  {
   "cell_type": "code",
   "execution_count": null,
   "metadata": {
    "scrolled": false
   },
   "outputs": [],
   "source": [
    "\n",
    "model, yhat, coefs, loss = model_sales_MLP(dataset, [100, 100], max_iter = 1000, print_coefs=False)\n",
    "graph_real_and_predicted(dataset, yhat, fname = 'deep_network')"
   ]
  },
  {
   "cell_type": "code",
   "execution_count": null,
   "metadata": {},
   "outputs": [],
   "source": []
  }
 ],
 "metadata": {
  "kernelspec": {
   "display_name": "Python 3",
   "language": "python",
   "name": "python3"
  },
  "language_info": {
   "codemirror_mode": {
    "name": "ipython",
    "version": 3
   },
   "file_extension": ".py",
   "mimetype": "text/x-python",
   "name": "python",
   "nbconvert_exporter": "python",
   "pygments_lexer": "ipython3",
   "version": "3.6.5"
  }
 },
 "nbformat": 4,
 "nbformat_minor": 2
}
