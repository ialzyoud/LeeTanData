{
 "cells": [
  {
   "cell_type": "code",
   "execution_count": 1,
   "metadata": {},
   "outputs": [],
   "source": [
    "import numpy as np\n",
    "import pandas as pd\n",
    "from sklearn.linear_model import LinearRegression\n",
    "from sklearn.preprocessing import StandardScaler\n",
    "import matplotlib.pyplot as plt\n",
    "import tensorflow as tf\n",
    "pd.set_option(\"display.max_columns\",200)\n",
    "from sklearn.metrics import r2_score\n"
   ]
  },
  {
   "cell_type": "code",
   "execution_count": 2,
   "metadata": {
    "collapsed": true
   },
   "outputs": [],
   "source": [
    "#TODO: Super upgraded walk forward optimization\n",
    "#TODO: Data imputation"
   ]
  },
  {
   "cell_type": "markdown",
   "metadata": {},
   "source": [
    "**Data Cleaning**"
   ]
  },
  {
   "cell_type": "code",
   "execution_count": 3,
   "metadata": {},
   "outputs": [],
   "source": [
    "df = pd.read_csv('ListingsAndSales.csv')\n",
    "#not sold flag\n",
    "df['NotSoldFlag'] = 0\n",
    "df.loc[df['SalesDate'].isnull() == True,'NotSoldFlag'] = 1\n",
    "\n",
    "#convert ListingDate and SalesDate to date\n",
    "df.ListingDate = pd.to_datetime(df.ListingDate)\n",
    "\n",
    "df.SalesDate = df.SalesDate.fillna('2015-04-07')\n",
    "df.SalesDate = pd.to_datetime(df.SalesDate)\n",
    "\n",
    "#calculate days it took to sell the listing if it's sold\n",
    "df['DaysSold'] = (df.SalesDate - df.ListingDate).dt.days.astype(float)\n",
    "#add one to DaysSold to prevent 0 when taking the log afterwards\n",
    "df['DaysSold'] = df['DaysSold'] + 1\n",
    "\n",
    "#loop through the variables and replace missing values with avg and create dummy variables\n",
    "col_dates = ['ListingDate', 'SalesDate']\n",
    "for i in df.columns.values:\n",
    "    if not i in col_dates:\n",
    "        if df[i].isnull().sum(axis = 0) > 0:\n",
    "            avg_i = df[i][df[i].isnull() == False].mean()\n",
    "            df[i + \"_mv\"] = (df[i].isnull())*1\n",
    "            df[i] = df[i].fillna(avg_i)\n",
    "\n",
    "#convert ListingDate to the day of the year, since all the dates are within a year\n",
    "df['ListingDay'] = (df.ListingDate - df.ListingDate.min()).dt.days\n",
    "\n",
    "#drop SalesDate variable\n"
   ]
  },
  {
   "cell_type": "markdown",
   "metadata": {},
   "source": [
    "**Split Data into Training Set and Test Set**"
   ]
  },
  {
   "cell_type": "code",
   "execution_count": 4,
   "metadata": {},
   "outputs": [
    {
     "data": {
      "text/plain": [
       "0.6864035087719298"
      ]
     },
     "execution_count": 4,
     "metadata": {},
     "output_type": "execute_result"
    }
   ],
   "source": [
    "df['NotSoldFlag'].mean()"
   ]
  },
  {
   "cell_type": "code",
   "execution_count": 5,
   "metadata": {},
   "outputs": [],
   "source": [
    "X = df.drop(['DaysSold', 'ListingDate', 'SalesDate', 'NotSoldFlag'],axis = 1)\n",
    "Y = df[['DaysSold']].as_matrix().astype(np.float32)\n",
    "scaler = StandardScaler()\n",
    "X = pd.DataFrame(scaler.fit_transform(X), columns = X.columns).as_matrix().astype(np.float32)\n",
    "sold = df['NotSoldFlag'].as_matrix().astype(np.float32)\n",
    "\n",
    "n_samples = Y.shape[0]\n",
    "n_features = X.shape[1]\n",
    "\n",
    "\n"
   ]
  },
  {
   "cell_type": "code",
   "execution_count": 6,
   "metadata": {
    "collapsed": true
   },
   "outputs": [],
   "source": [
    "def apply_clipped_optimizer(opt_fcn,\n",
    "                            loss,\n",
    "                            clip_norm=.1,\n",
    "                            clip_single=.03,\n",
    "                            clip_global_norm=False):\n",
    "  gvs = opt_fcn.compute_gradients(loss)\n",
    "\n",
    "  if clip_global_norm:\n",
    "    gs, vs = zip(*[(g, v) for g, v in gvs if g is not None])\n",
    "    capped_gs, grad_norm_total = tf.clip_by_global_norm([g for g in gs],\n",
    "                                                        clip_norm)\n",
    "    capped_gvs = list(zip(capped_gs, vs))\n",
    "  else:\n",
    "    grad_norm_total = tf.sqrt(\n",
    "        tf.reduce_sum([\n",
    "            tf.reduce_sum(tf.square(grad)) for grad, var in gvs\n",
    "            if grad is not None\n",
    "        ]))\n",
    "    capped_gvs = [(tf.clip_by_value(grad, -1 * clip_single, clip_single), var)\n",
    "                  for grad, var in gvs if grad is not None]\n",
    "    capped_gvs = [(tf.clip_by_norm(grad, clip_norm), var)\n",
    "                  for grad, var in capped_gvs if grad is not None]\n",
    "\n",
    "  optimizer = opt_fcn.apply_gradients(\n",
    "      capped_gvs, global_step=tf.train.get_global_step())\n",
    "\n",
    "  return optimizer, grad_norm_total"
   ]
  },
  {
   "cell_type": "code",
   "execution_count": 7,
   "metadata": {
    "collapsed": true
   },
   "outputs": [],
   "source": [
    "#For numeric stability\n",
    "EPSILON = 1e-10\n",
    "\n",
    "\n",
    "class Model():\n",
    "    def __init__(self, input_size, layer_sizes):\n",
    "        self.input_size = input_size\n",
    "        self.layer_sizes = layer_sizes\n",
    "        self.sold = tf.placeholder(tf.float32, shape = (None))\n",
    "        self.x = tf.placeholder(tf.float32, shape=(None, input_size))\n",
    "        self.y = tf.placeholder(tf.float32, shape=(None))\n",
    "        self.layers = [self.x]\n",
    "        for layer_size in layer_sizes:\n",
    "            next_layer = tf.nn.leaky_relu(tf.layers.dense(self.layers[-1], layer_size))\n",
    "            self.layers.append(next_layer)\n",
    "        self.output = tf.nn.softplus(tf.layers.dense(self.layers[-1], 1))\n",
    "        \n",
    "        self.loss_indicator = (tf.cast(self.output < self.y, tf.float32) * (1-self.sold) + self.sold)\n",
    "        loss_numerator = tf.reduce_sum(tf.square(self.y - self.output) * self.loss_indicator)\n",
    "        loss_denominator = (tf.reduce_sum(self.loss_indicator)) + EPSILON\n",
    "        self.loss = loss_numerator/loss_denominator\n",
    "        opt_fcn = tf.train.AdamOptimizer()\n",
    "        self.optimizer = apply_clipped_optimizer(opt_fcn, self.loss)\n",
    "        "
   ]
  },
  {
   "cell_type": "code",
   "execution_count": null,
   "metadata": {
    "collapsed": true
   },
   "outputs": [],
   "source": []
  },
  {
   "cell_type": "code",
   "execution_count": 8,
   "metadata": {
    "scrolled": true
   },
   "outputs": [
    {
     "name": "stdout",
     "output_type": "stream",
     "text": [
      "epoch: 0 train loss:  1213.85 val loss:  1121.11\n",
      "epoch: 10 train loss:  69.3238 val loss:  66.347\n",
      "epoch: 20 train loss:  51.2745 val loss:  50.1268\n",
      "epoch: 30 train loss:  45.0404 val loss:  44.7469\n",
      "epoch: 40 train loss:  41.9306 val loss:  41.5839\n",
      "epoch: 50 train loss:  38.9849 val loss:  39.1433\n",
      "epoch: 60 train loss:  37.4565 val loss:  37.087\n",
      "epoch: 70 train loss:  35.8448 val loss:  35.8651\n",
      "epoch: 80 train loss:  35.5389 val loss:  34.2937\n",
      "epoch: 90 train loss:  34.9963 val loss:  33.6411\n"
     ]
    }
   ],
   "source": [
    "\n",
    "tf.reset_default_graph()      \n",
    "        \n",
    "model = Model(n_features, layer_sizes = [32, 32,])\n",
    "\n",
    "sess = tf.Session()\n",
    "sess.run(tf.global_variables_initializer())\n",
    "\n",
    "X_test = X_train = X\n",
    "Y_train = Y_test = Y\n",
    "sold_train = sold_test = sold\n",
    "trn_losses = []\n",
    "val_losses = []\n",
    "r2_scores = []\n",
    "bs=64\n",
    "num_batches = (n_samples // bs) + 1\n",
    "for epoch in range(100):\n",
    "    trn_loss = []\n",
    "    order = np.arange(n_samples)\n",
    "    np.random.shuffle(order)\n",
    "    for itr in range(n_samples//bs):\n",
    "        rows = order[itr*bs:(itr+1)*bs]\n",
    "        if itr+1 == num_batches:\n",
    "            rows = order[itr*bs:]\n",
    "        X_active, Y_active, Sold_active = X_train[rows,:], Y_train[rows], sold_train[rows]\n",
    "        feed_dict = {model.x: X_active,\n",
    "                model.y: Y_active,\n",
    "                model.sold: Sold_active}\n",
    "        _, loss, yhat = sess.run([model.optimizer, model.loss, model.output], feed_dict)\n",
    "        trn_loss.append(loss)\n",
    "    if epoch % 2 == 0:\n",
    "        trn_loss_mean = np.mean(trn_loss)\n",
    "        trn_losses.append(trn_loss_mean)\n",
    "        feed_dict = {model.x: X_test,\n",
    "                    model.y: Y_test,\n",
    "                    model.sold: sold_test}\n",
    "        val_loss, yhat = sess.run([model.loss, model.output], feed_dict)\n",
    "        val_losses.append(val_loss)\n",
    "        r2_scores.append(r2_score(Y_test, yhat))\n",
    "    if epoch % 10 == 0:\n",
    "        print( 'epoch:', epoch, 'train loss: ', trn_loss_mean, 'val loss: ',val_loss)\n",
    "y_tst_predict = sess.run(model.output, {model.x: X_test})"
   ]
  },
  {
   "cell_type": "code",
   "execution_count": 9,
   "metadata": {},
   "outputs": [
    {
     "data": {
      "image/png": "[encoded data removed]",
      "text/plain": [
       "<matplotlib.figure.Figure at 0xe76fd30>"
      ]
     },
     "metadata": {},
     "output_type": "display_data"
    },
    {
     "data": {
      "image/png": "[encoded data removed]",
      "text/plain": [
       "<matplotlib.figure.Figure at 0xefb1400>"
      ]
     },
     "metadata": {},
     "output_type": "display_data"
    }
   ],
   "source": [
    "plt.plot(trn_losses, label = 'train loss')\n",
    "plt.plot(val_losses, label = 'test loss')\n",
    "plt.title('least square losses')\n",
    "plt.show()\n",
    "plt.plot(r2_scores, label='validation r2_scores')\n",
    "plt.title('r2 scores')\n",
    "plt.show()"
   ]
  },
  {
   "cell_type": "code",
   "execution_count": null,
   "metadata": {
    "collapsed": true
   },
   "outputs": [],
   "source": []
  },
  {
   "cell_type": "code",
   "execution_count": null,
   "metadata": {
    "collapsed": true
   },
   "outputs": [],
   "source": []
  },
  {
   "cell_type": "code",
   "execution_count": null,
   "metadata": {
    "collapsed": true
   },
   "outputs": [],
   "source": []
  },
  {
   "cell_type": "code",
   "execution_count": null,
   "metadata": {
    "collapsed": true
   },
   "outputs": [],
   "source": []
  },
  {
   "cell_type": "code",
   "execution_count": 10,
   "metadata": {},
   "outputs": [
    {
     "data": {
      "text/html": [
       "<div>\n",
       "<style scoped>\n",
       "    .dataframe tbody tr th:only-of-type {\n",
       "        vertical-align: middle;\n",
       "    }\n",
       "\n",
       "    .dataframe tbody tr th {\n",
       "        vertical-align: top;\n",
       "    }\n",
       "\n",
       "    .dataframe thead th {\n",
       "        text-align: right;\n",
       "    }\n",
       "</style>\n",
       "<table border=\"1\" class=\"dataframe\">\n",
       "  <thead>\n",
       "    <tr style=\"text-align: right;\">\n",
       "      <th></th>\n",
       "      <th>ListingDate</th>\n",
       "      <th>SalesDate</th>\n",
       "    </tr>\n",
       "  </thead>\n",
       "  <tbody>\n",
       "    <tr>\n",
       "      <th>count</th>\n",
       "      <td>4104</td>\n",
       "      <td>4104</td>\n",
       "    </tr>\n",
       "    <tr>\n",
       "      <th>unique</th>\n",
       "      <td>98</td>\n",
       "      <td>34</td>\n",
       "    </tr>\n",
       "    <tr>\n",
       "      <th>top</th>\n",
       "      <td>2015-04-03 00:00:00</td>\n",
       "      <td>2015-04-07 00:00:00</td>\n",
       "    </tr>\n",
       "    <tr>\n",
       "      <th>freq</th>\n",
       "      <td>125</td>\n",
       "      <td>2817</td>\n",
       "    </tr>\n",
       "    <tr>\n",
       "      <th>first</th>\n",
       "      <td>2014-12-31 00:00:00</td>\n",
       "      <td>2015-01-12 00:00:00</td>\n",
       "    </tr>\n",
       "    <tr>\n",
       "      <th>last</th>\n",
       "      <td>2015-04-07 00:00:00</td>\n",
       "      <td>2015-04-07 00:00:00</td>\n",
       "    </tr>\n",
       "  </tbody>\n",
       "</table>\n",
       "</div>"
      ],
      "text/plain": [
       "                ListingDate            SalesDate\n",
       "count                  4104                 4104\n",
       "unique                   98                   34\n",
       "top     2015-04-03 00:00:00  2015-04-07 00:00:00\n",
       "freq                    125                 2817\n",
       "first   2014-12-31 00:00:00  2015-01-12 00:00:00\n",
       "last    2015-04-07 00:00:00  2015-04-07 00:00:00"
      ]
     },
     "execution_count": 10,
     "metadata": {},
     "output_type": "execute_result"
    }
   ],
   "source": [
    "df[['ListingDate', 'SalesDate']].describe()"
   ]
  },
  {
   "cell_type": "code",
   "execution_count": 11,
   "metadata": {},
   "outputs": [
    {
     "ename": "NameError",
     "evalue": "name 'df_active' is not defined",
     "output_type": "error",
     "traceback": [
      "\u001b[1;31m---------------------------------------------------------------------------\u001b[0m",
      "\u001b[1;31mNameError\u001b[0m                                 Traceback (most recent call last)",
      "\u001b[1;32m<ipython-input-11-e6da02fd61f7>\u001b[0m in \u001b[0;36m<module>\u001b[1;34m()\u001b[0m\n\u001b[1;32m----> 1\u001b[1;33m \u001b[0mX\u001b[0m \u001b[1;33m=\u001b[0m \u001b[0mdf_active\u001b[0m\u001b[1;33m.\u001b[0m\u001b[0mdrop\u001b[0m\u001b[1;33m(\u001b[0m\u001b[1;33m[\u001b[0m\u001b[1;34m'DaysSold'\u001b[0m\u001b[1;33m,\u001b[0m \u001b[1;34m'ListingDate'\u001b[0m\u001b[1;33m,\u001b[0m \u001b[1;34m'SalesDate'\u001b[0m\u001b[1;33m]\u001b[0m\u001b[1;33m,\u001b[0m\u001b[0maxis\u001b[0m \u001b[1;33m=\u001b[0m \u001b[1;36m1\u001b[0m\u001b[1;33m)\u001b[0m\u001b[1;33m\u001b[0m\u001b[0m\n\u001b[0m\u001b[0;32m      2\u001b[0m \u001b[0mY\u001b[0m \u001b[1;33m=\u001b[0m \u001b[0mdf_active\u001b[0m\u001b[1;33m[\u001b[0m\u001b[1;33m[\u001b[0m\u001b[1;34m'DaysSold'\u001b[0m\u001b[1;33m]\u001b[0m\u001b[1;33m]\u001b[0m\u001b[1;33m\u001b[0m\u001b[0m\n\u001b[0;32m      3\u001b[0m \u001b[1;33m\u001b[0m\u001b[0m\n\u001b[0;32m      4\u001b[0m \u001b[0mn_samples\u001b[0m \u001b[1;33m=\u001b[0m \u001b[0mY\u001b[0m\u001b[1;33m.\u001b[0m\u001b[0mshape\u001b[0m\u001b[1;33m[\u001b[0m\u001b[1;36m0\u001b[0m\u001b[1;33m]\u001b[0m\u001b[1;33m\u001b[0m\u001b[0m\n\u001b[0;32m      5\u001b[0m \u001b[0mtrain_size\u001b[0m \u001b[1;33m=\u001b[0m \u001b[0mn_samples\u001b[0m \u001b[1;33m*\u001b[0m \u001b[1;36m3\u001b[0m \u001b[1;33m//\u001b[0m \u001b[1;36m4\u001b[0m\u001b[1;33m\u001b[0m\u001b[0m\n",
      "\u001b[1;31mNameError\u001b[0m: name 'df_active' is not defined"
     ]
    }
   ],
   "source": [
    "X = df_active.drop(['DaysSold', 'ListingDate', 'SalesDate'],axis = 1)\n",
    "Y = df_active[['DaysSold']]\n",
    "\n",
    "n_samples = Y.shape[0]\n",
    "train_size = n_samples * 3 // 4 \n",
    "X_train, Y_train = [df.iloc]\n",
    "\n",
    "X_train, X_test, Y_train, Y_test = train_test_split(X, Y, train_size = 0.75)\n",
    "\n",
    "scaler = StandardScaler()\n",
    "X_train_scaled = pd.DataFrame(scaler.fit_transform(X_train), columns = X_train.columns)\n",
    "X_test_scaled = pd.DataFrame(scaler.transform(X_test), columns = X_test.columns)\n",
    "\n",
    "#for neural network\n",
    "Y_nn = pd.DataFrame(df['DaysSold'])\n",
    "X_train_nn, X_test_nn, Y_train_nn, Y_test_nn = train_test_split(X, Y_nn, train_size = 0.75)\n",
    "\n",
    "scaler = StandardScaler()\n",
    "X_train_scaled_nn = pd.DataFrame(scaler.fit_transform(X_train_nn), columns = X_train.columns)\n",
    "X_test_scaled_nn = pd.DataFrame(scaler.transform(X_test_nn), columns = X_test.columns)"
   ]
  },
  {
   "cell_type": "markdown",
   "metadata": {},
   "source": [
    "**Modeling**"
   ]
  },
  {
   "cell_type": "code",
   "execution_count": null,
   "metadata": {},
   "outputs": [],
   "source": [
    "#run linear regression\n",
    "linear = LinearRegression().fit(X_train_scaled, Y_train)\n",
    "linear_pred_test = np.exp(linear.predict(X_test_scaled)) - 1\n",
    "linear_pred_train = np.exp(linear.predict(X_train_scaled)) - 1\n",
    "\n",
    "#customized evaluation metrics\n",
    "#when Y is larger than DaysSold, no error\n",
    "X_train_linear_pred = pd.merge(X_train_scaled, pd.DataFrame(linear_pred_train, columns = ['Y'], index = X_train_scaled.index), how = 'inner', left_index= True, right_index = True)\n",
    "X_train_linear_pred = pd.merge(X_train_linear_pred, pd.DataFrame(df['DaysSold']), how = 'inner', left_index = True, right_index = True)\n",
    "\n",
    "X_train_linear_pred['Err_Val'] = np.square(X_train_linear_pred['DaysSold'] - X_train_linear_pred['Y'])\n",
    "X_train_linear_pred['Err_Ind'] = (X_train_linear_pred['NotSoldFlag'] == 0) + ((X_train_linear_pred['NotSoldFlag'] == 1) + (X_train_linear_pred['Y'] <= X_train_linear_pred['DaysSold']))\n",
    "X_train_linear_pred['Eval'] = X_train_linear_pred['Err_Val'] * X_train_linear_pred['Err_Ind']\n",
    "linear_mse_train = X_train_linear_pred['Eval'].mean()\n",
    "\n",
    "\n",
    "X_test_linear_pred = pd.merge(X_test_scaled, pd.DataFrame(linear_pred_test, columns = ['Y'], index = X_test_scaled.index), how = 'inner', left_index= True, right_index = True)\n",
    "X_test_linear_pred = pd.merge(X_test_linear_pred, pd.DataFrame(df['DaysSold']), how = 'inner', left_index = True, right_index = True)\n",
    "\n",
    "X_test_linear_pred['Err_Val'] = np.square(X_test_linear_pred['DaysSold'] - X_test_linear_pred['Y'])\n",
    "X_test_linear_pred['Err_Ind'] = (X_test_linear_pred['NotSoldFlag'] == 0) + \\\n",
    "    ((X_test_linear_pred['NotSoldFlag'] == 1) + (X_test_linear_pred['Y'] <= X_test_linear_pred['DaysSold']))\n",
    "X_test_linear_pred['Eval'] = X_test_linear_pred['Err_Val'] * X_test_linear_pred['Err_Ind']\n",
    "linear_mse_test = X_test_linear_pred['Eval'].mean()\n",
    "\n",
    "print('Mean squared error for linear regression on train set is {}.'.format(linear_mse_train))\n",
    "print('Mean squared error for linear regression on test set is {}.'.format(linear_mse_test))"
   ]
  },
  {
   "cell_type": "code",
   "execution_count": null,
   "metadata": {
    "collapsed": true
   },
   "outputs": [],
   "source": [
    "X_train_scaled_features = X_train_scaled_nn.drop(['NotSoldFlag'], axis = 1)\n",
    "X_test_scaled_features = X_test_scaled_nn.drop(['NotSoldFlag'], axis = 1)"
   ]
  },
  {
   "cell_type": "code",
   "execution_count": null,
   "metadata": {
    "collapsed": true
   },
   "outputs": [],
   "source": [
    "#run neural network with customized one-sided loss function\n",
    "def lrelu(x):\n",
    "    return tf.maximum(x, 1e-1*x)\n",
    "tf.reset_default_graph()\n",
    "\n",
    "class Model():\n",
    "    def __init__(self, input_size, layer_sizes):\n",
    "        self.input_size = input_size\n",
    "        self.layer_sizes = layer_sizes\n",
    "        self.sold = tf.placeholder(tf.float32, shape = (None))\n",
    "        self.input_layer = tf.placeholder(tf.float32, shape=(None, input_size))\n",
    "        self.y = tf.placeholder(tf.float32, shape=(None))\n",
    "        prev_layer = self.input_layer/10\n",
    "        for idx, layer in enumerate(layer_sizes):\n",
    "            next_layer = tf.layers.dense(prev_layer, layer, name='layer'+str(idx))\n",
    "            prev_layer = lrelu(next_layer)\n",
    "        self.output = tf.nn.softplus(tf.layers.dense(prev_layer, 1, name='output'))\n",
    "        \n",
    "        self.loss_indicator = (tf.cast(self.output < self.y, tf.float32) * (1-self.sold) + self.sold) + 1e-8\n",
    "        \n",
    "        self.loss = tf.reduce_sum(tf.square(self.y - self.output) * self.loss_indicator) / (tf.reduce_sum(self.loss_indicator))\n",
    "        grad_clipping = 0\n",
    "        if grad_clipping:\n",
    "            optimizer = tf.train.AdamOptimizer(learning_rate=1e-4)\n",
    "            gvs = optimizer.compute_gradients(self.loss)\n",
    "            self.grad_norm = tf.reduce_mean([tf.reduce_mean(tf.square(grad)) for grad, var in gvs if grad is not None])\n",
    "            clip_norm = 100\n",
    "            clip_single = 1\n",
    "            capped_gvs = [(tf.clip_by_value(grad, -1*clip_single,clip_single), var)\n",
    "                          for grad, var in gvs if grad is not None]\n",
    "            capped_gvs = [(tf.clip_by_norm(grad, clip_norm), var) for grad, var in capped_gvs if grad is not None]\n",
    "            self.optimizer = optimizer.apply_gradients(capped_gvs)\n",
    "        else:\n",
    "            self.grad_norm = 'NotUsed'\n",
    "            self.optimizer = tf.train.AdamOptimizer(learning_rate=1e-4).minimize(self.loss)\n",
    "        \n",
    "        \n",
    "        self.sess = tf.Session()\n",
    "        self.sess.run(tf.global_variables_initializer())\n",
    "        \n",
    "model = Model(X_train_scaled_features.shape[1], layer_sizes = [])"
   ]
  },
  {
   "cell_type": "code",
   "execution_count": null,
   "metadata": {},
   "outputs": [],
   "source": [
    "101 // 100"
   ]
  },
  {
   "cell_type": "code",
   "execution_count": null,
   "metadata": {
    "scrolled": true
   },
   "outputs": [],
   "source": [
    "X_trn, Y_trn = X_train_scaled_features.as_matrix().astype(np.float32), Y_train_nn.as_matrix().astype(np.float32)\n",
    "X_tst, Y_tst = X_test_scaled_features.as_matrix().astype(np.float32), Y_test_nn.as_matrix().astype(np.float32)\n",
    "sold = X_train['NotSoldFlag'].as_matrix().astype(np.float32)\n",
    "sold_tst = X_test['NotSoldFlag'].as_matrix().astype(np.float32)\n",
    "trn_loss = []\n",
    "num_rows = X_trn.shape[0]\n",
    "bs=100\n",
    "num_batches = (num_rows // bs) + 1\n",
    "for epoch in range(100):\n",
    "    order = np.arange(num_rows)\n",
    "    np.random.shuffle(order)\n",
    "    for itr in range(num_rows//bs):\n",
    "        rows = order[itr*bs:(itr+1)*bs]\n",
    "        if itr+1 == num_batches:\n",
    "            rows = order[itr*bs:]\n",
    "        X_active, Y_active, Sold_active = X_trn[rows,:], Y_trn[rows], sold[rows]\n",
    "        feed_dict = {model.input_layer: X_active,\n",
    "                model.y: Y_active,\n",
    "                model.sold: Sold_active}\n",
    "        _, loss, yhat = model.sess.run([model.optimizer, model.loss, model.output], feed_dict)\n",
    "        trn_loss.append(loss)\n",
    "    if epoch % 10 == 0:\n",
    "        print('train loss: ',np.mean(trn_loss), 'epoch:', epoch)\n",
    "        trn_loss = []\n",
    "        feed_dict = {model.input_layer: X_tst,\n",
    "                    model.y: Y_tst,\n",
    "                    model.sold: sold_tst}\n",
    "        val_loss = model.sess.run(model.loss, feed_dict)\n",
    "        print('val loss: ',val_loss, 'itr:', itr)\n",
    "y_tst_predict = model.sess.run(model.output, {model.input_layer: X_tst})"
   ]
  },
  {
   "cell_type": "code",
   "execution_count": null,
   "metadata": {},
   "outputs": [],
   "source": [
    "y_tst_predict"
   ]
  },
  {
   "cell_type": "code",
   "execution_count": null,
   "metadata": {
    "collapsed": true
   },
   "outputs": [],
   "source": []
  }
 ],
 "metadata": {
  "kernelspec": {
   "display_name": "Python 3",
   "language": "python",
   "name": "python3"
  },
  "language_info": {
   "codemirror_mode": {
    "name": "ipython",
    "version": 3
   },
   "file_extension": ".py",
   "mimetype": "text/x-python",
   "name": "python",
   "nbconvert_exporter": "python",
   "pygments_lexer": "ipython3",
   "version": "3.6.3"
  }
 },
 "nbformat": 4,
 "nbformat_minor": 2
}
