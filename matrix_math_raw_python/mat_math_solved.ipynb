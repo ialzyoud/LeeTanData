{
 "cells": [
  {
   "cell_type": "code",
   "execution_count": 1,
   "metadata": {},
   "outputs": [],
   "source": [
    "import random\n",
    "import numpy as np\n",
    "import pandas as pd"
   ]
  },
  {
   "cell_type": "code",
   "execution_count": 2,
   "metadata": {},
   "outputs": [],
   "source": [
    "input_features = 2\n",
    "output_features = 4\n",
    "num_data = 3\n",
    "np.random.seed(0)"
   ]
  },
  {
   "cell_type": "code",
   "execution_count": 3,
   "metadata": {},
   "outputs": [],
   "source": [
    "# create a data matrix x with size (num_data, input_features)\n",
    "\n",
    "# create a feature matrix w with size (input_features, output_features)"
   ]
  },
  {
   "cell_type": "code",
   "execution_count": 4,
   "metadata": {},
   "outputs": [
    {
     "data": {
      "text/plain": [
       "array([[4, 0],\n",
       "       [3, 3],\n",
       "       [3, 1]])"
      ]
     },
     "execution_count": 4,
     "metadata": {},
     "output_type": "execute_result"
    }
   ],
   "source": [
    "x = np.random.randint(5, size=(num_data, input_features))\n",
    "\n",
    "x"
   ]
  },
  {
   "cell_type": "code",
   "execution_count": 5,
   "metadata": {},
   "outputs": [
    {
     "data": {
      "text/plain": [
       "array([[ 0,  1, -1,  1],\n",
       "       [-1, -1, -1,  1]])"
      ]
     },
     "execution_count": 5,
     "metadata": {},
     "output_type": "execute_result"
    }
   ],
   "source": [
    "w = np.random.randint(-1, 2, size=(input_features, output_features))\n",
    "\n",
    "w"
   ]
  },
  {
   "cell_type": "code",
   "execution_count": 6,
   "metadata": {},
   "outputs": [],
   "source": [
    "# algorithm: \n",
    "# calculate new matrix of shape 3, 4\n",
    "\n",
    "# For element i, j (for row i and column j) of output matrix\n",
    "# only consider row i from input matrix and column j from w matrix.\n",
    "# Those rows and columns should each have num_data elements. Multiply the coresponding elements and add them up"
   ]
  },
  {
   "cell_type": "code",
   "execution_count": 7,
   "metadata": {
    "scrolled": true
   },
   "outputs": [
    {
     "data": {
      "text/plain": [
       "array([[ 0,  4, -4,  4],\n",
       "       [-3,  0, -6,  6],\n",
       "       [-1,  2, -4,  4]])"
      ]
     },
     "execution_count": 7,
     "metadata": {},
     "output_type": "execute_result"
    }
   ],
   "source": [
    "x.dot(w)"
   ]
  },
  {
   "cell_type": "code",
   "execution_count": 8,
   "metadata": {},
   "outputs": [],
   "source": [
    "output = np.zeros((num_data, output_features))\n",
    "for i in range(input_features):\n",
    "    for j in range(output_features):\n",
    "        for d in range(num_data):\n",
    "            output[d,j] = output[d,j] + x[d,i] * w[i,j]"
   ]
  },
  {
   "cell_type": "code",
   "execution_count": 9,
   "metadata": {},
   "outputs": [
    {
     "data": {
      "text/plain": [
       "array([[ 0.,  4., -4.,  4.],\n",
       "       [-3.,  0., -6.,  6.],\n",
       "       [-1.,  2., -4.,  4.]])"
      ]
     },
     "execution_count": 9,
     "metadata": {},
     "output_type": "execute_result"
    }
   ],
   "source": [
    "output"
   ]
  },
  {
   "cell_type": "code",
   "execution_count": 10,
   "metadata": {},
   "outputs": [
    {
     "data": {
      "text/plain": [
       "array([[ 0,  4, -4,  4],\n",
       "       [-3,  0, -6,  6],\n",
       "       [-1,  2, -4,  4]])"
      ]
     },
     "execution_count": 10,
     "metadata": {},
     "output_type": "execute_result"
    }
   ],
   "source": [
    "x.dot(w)"
   ]
  },
  {
   "cell_type": "code",
   "execution_count": 11,
   "metadata": {},
   "outputs": [],
   "source": [
    "# Confirm your solution works by comparing assert (output == x.dot(w)).all()"
   ]
  },
  {
   "cell_type": "code",
   "execution_count": 12,
   "metadata": {},
   "outputs": [],
   "source": [
    "assert (output == x.dot(w)).all()"
   ]
  },
  {
   "cell_type": "code",
   "execution_count": 13,
   "metadata": {},
   "outputs": [],
   "source": [
    "# randomly generate a true_value signal that has the same shape as your output.\n",
    "\n",
    "# Compute your loss by calculating the Sum of the absolute error between your output and the ground truth\n",
    "\n",
    "# Compute the direction of your loss on each output (for instance would making the output bigger make loss bigger)\n",
    "# (I choose to have 1 represent positive, -1 represent negative)"
   ]
  },
  {
   "cell_type": "code",
   "execution_count": 14,
   "metadata": {},
   "outputs": [
    {
     "name": "stdout",
     "output_type": "stream",
     "text": [
      "41.578510114266535\n"
     ]
    }
   ],
   "source": [
    "true_value = np.random.uniform(-1, 1, output.shape)\n",
    "L = np.abs(output - true_value).sum()\n",
    "print(L)\n",
    "dL_do = (output > true_value) * 2.0 - 1"
   ]
  },
  {
   "cell_type": "code",
   "execution_count": 15,
   "metadata": {
    "scrolled": true
   },
   "outputs": [
    {
     "data": {
      "text/plain": [
       "array([[-0.04466977,  0.62433746, -0.04004566, -0.21443041],\n",
       "       [ 0.67215753, -0.32520768,  0.29634374, -0.26351692],\n",
       "       [ 0.91431032, -0.71929844,  0.74017452, -0.05278391]])"
      ]
     },
     "execution_count": 15,
     "metadata": {},
     "output_type": "execute_result"
    }
   ],
   "source": [
    "true_value"
   ]
  },
  {
   "cell_type": "code",
   "execution_count": 16,
   "metadata": {},
   "outputs": [
    {
     "data": {
      "text/plain": [
       "array([[ 0.,  4., -4.,  4.],\n",
       "       [-3.,  0., -6.,  6.],\n",
       "       [-1.,  2., -4.,  4.]])"
      ]
     },
     "execution_count": 16,
     "metadata": {},
     "output_type": "execute_result"
    }
   ],
   "source": [
    "output"
   ]
  },
  {
   "cell_type": "code",
   "execution_count": 17,
   "metadata": {},
   "outputs": [
    {
     "data": {
      "text/plain": [
       "array([[ 1.,  1., -1.,  1.],\n",
       "       [-1.,  1., -1.,  1.],\n",
       "       [-1.,  1., -1.,  1.]])"
      ]
     },
     "execution_count": 17,
     "metadata": {},
     "output_type": "execute_result"
    }
   ],
   "source": [
    "dL_do"
   ]
  },
  {
   "cell_type": "code",
   "execution_count": 18,
   "metadata": {},
   "outputs": [],
   "source": [
    "# Calculate the derivitive with respect to x\n",
    "\n",
    "# remember, the derivitive of A * B with respect to A is B, and with respect to B is A."
   ]
  },
  {
   "cell_type": "code",
   "execution_count": 19,
   "metadata": {},
   "outputs": [
    {
     "data": {
      "text/plain": [
       "array([[[ 0., -1.],\n",
       "        [-0.,  1.],\n",
       "        [-0.,  1.]],\n",
       "\n",
       "       [[ 1., -1.],\n",
       "        [ 1., -1.],\n",
       "        [ 1., -1.]],\n",
       "\n",
       "       [[ 1.,  1.],\n",
       "        [ 1.,  1.],\n",
       "        [ 1.,  1.]],\n",
       "\n",
       "       [[ 1.,  1.],\n",
       "        [ 1.,  1.],\n",
       "        [ 1.,  1.]]])"
      ]
     },
     "execution_count": 19,
     "metadata": {},
     "output_type": "execute_result"
    }
   ],
   "source": [
    "do_dx = np.zeros((output_features, num_data, input_features))\n",
    "for i in range(input_features):\n",
    "    for j in range(output_features):\n",
    "        for d in range(num_data):\n",
    "            do_dx[j, d, i] = dL_do[d, j] * w[i,j]\n",
    "do_dx"
   ]
  },
  {
   "cell_type": "code",
   "execution_count": 20,
   "metadata": {},
   "outputs": [],
   "source": [
    "# Oh no, we have so many derivities to the same value, one deritive per output. Let's sum those up to get\n",
    "# One derivitive for each of our values so we can make changes to make our model more efficient\n",
    "# Write code to sum over the \"output features\" dimension to reduce that dimension to a scalar"
   ]
  },
  {
   "cell_type": "code",
   "execution_count": 21,
   "metadata": {},
   "outputs": [
    {
     "data": {
      "text/plain": [
       "array([[3., 0.],\n",
       "       [3., 2.],\n",
       "       [3., 2.]])"
      ]
     },
     "execution_count": 21,
     "metadata": {},
     "output_type": "execute_result"
    }
   ],
   "source": [
    "dL_dx = do_dx.sum(0)\n",
    "dL_dx"
   ]
  },
  {
   "cell_type": "code",
   "execution_count": 22,
   "metadata": {},
   "outputs": [],
   "source": [
    "# check that it matches with the dot product of w and dL_do"
   ]
  },
  {
   "cell_type": "code",
   "execution_count": 23,
   "metadata": {},
   "outputs": [],
   "source": [
    "assert (dL_dx == w.dot(dL_do.T).T).all()"
   ]
  },
  {
   "cell_type": "code",
   "execution_count": 24,
   "metadata": {},
   "outputs": [],
   "source": [
    "# now do the same for dL_dw by multiplying dL_do by x"
   ]
  },
  {
   "cell_type": "code",
   "execution_count": 25,
   "metadata": {},
   "outputs": [
    {
     "data": {
      "text/plain": [
       "array([[ 1.,  1., -1.,  1.],\n",
       "       [-1.,  1., -1.,  1.],\n",
       "       [-1.,  1., -1.,  1.]])"
      ]
     },
     "execution_count": 25,
     "metadata": {},
     "output_type": "execute_result"
    }
   ],
   "source": [
    "dL_do"
   ]
  },
  {
   "cell_type": "code",
   "execution_count": 26,
   "metadata": {},
   "outputs": [
    {
     "data": {
      "text/plain": [
       "array([[4, 0],\n",
       "       [3, 3],\n",
       "       [3, 1]])"
      ]
     },
     "execution_count": 26,
     "metadata": {},
     "output_type": "execute_result"
    }
   ],
   "source": [
    "x"
   ]
  },
  {
   "cell_type": "code",
   "execution_count": 27,
   "metadata": {},
   "outputs": [
    {
     "data": {
      "text/plain": [
       "array([[4, 0],\n",
       "       [3, 3],\n",
       "       [3, 1]])"
      ]
     },
     "execution_count": 27,
     "metadata": {},
     "output_type": "execute_result"
    }
   ],
   "source": [
    "x"
   ]
  },
  {
   "cell_type": "code",
   "execution_count": 28,
   "metadata": {},
   "outputs": [
    {
     "data": {
      "text/plain": [
       "array([[[ 4.,  4., -4.,  4.],\n",
       "        [-3.,  3., -3.,  3.],\n",
       "        [-3.,  3., -3.,  3.]],\n",
       "\n",
       "       [[ 0.,  0., -0.,  0.],\n",
       "        [-3.,  3., -3.,  3.],\n",
       "        [-1.,  1., -1.,  1.]]])"
      ]
     },
     "execution_count": 28,
     "metadata": {},
     "output_type": "execute_result"
    }
   ],
   "source": [
    "do_dw = np.zeros((input_features, num_data, output_features))\n",
    "for i in range(input_features):\n",
    "    for j in range(output_features):\n",
    "        for d in range(num_data):\n",
    "            do_dw[i, d, j] = dL_do[d, j] * x[d,i]\n",
    "dL_dw = do_dw.sum(1)\n",
    "do_dw"
   ]
  },
  {
   "cell_type": "code",
   "execution_count": 29,
   "metadata": {},
   "outputs": [
    {
     "data": {
      "text/plain": [
       "array([[ -2.,  10., -10.,  10.],\n",
       "       [ -4.,   4.,  -4.,   4.]])"
      ]
     },
     "execution_count": 29,
     "metadata": {},
     "output_type": "execute_result"
    }
   ],
   "source": [
    "dL_dw"
   ]
  },
  {
   "cell_type": "code",
   "execution_count": 30,
   "metadata": {
    "scrolled": true
   },
   "outputs": [
    {
     "data": {
      "text/plain": [
       "array([[ -2.,  10., -10.,  10.],\n",
       "       [ -4.,   4.,  -4.,   4.]])"
      ]
     },
     "execution_count": 30,
     "metadata": {},
     "output_type": "execute_result"
    }
   ],
   "source": [
    "x.T.dot(dL_do)"
   ]
  },
  {
   "cell_type": "code",
   "execution_count": 31,
   "metadata": {},
   "outputs": [
    {
     "data": {
      "text/plain": [
       "array([[ -2.,  10., -10.,  10.],\n",
       "       [ -4.,   4.,  -4.,   4.]])"
      ]
     },
     "execution_count": 31,
     "metadata": {},
     "output_type": "execute_result"
    }
   ],
   "source": [
    "dL_dw"
   ]
  },
  {
   "cell_type": "code",
   "execution_count": 32,
   "metadata": {},
   "outputs": [],
   "source": [
    "# Check that your deritive matches with x.T.dot(dL_do)"
   ]
  },
  {
   "cell_type": "code",
   "execution_count": 33,
   "metadata": {},
   "outputs": [],
   "source": [
    "assert (dL_dw == x.T.dot(dL_do)).all()"
   ]
  },
  {
   "cell_type": "code",
   "execution_count": 34,
   "metadata": {},
   "outputs": [],
   "source": [
    "# change w_updated by reducing w by a small fraction in the direction of -dL_dw (to make L smaller)\n",
    "# recompute output, call it output_updated\n",
    "# DONT recompute the target\n",
    "# recompute Loss Use a new variable name for L (like L_updated)\n",
    "# Make sure Loss is now smaller than before"
   ]
  },
  {
   "cell_type": "code",
   "execution_count": 35,
   "metadata": {},
   "outputs": [],
   "source": [
    "w_updated = w - dL_dw * .01"
   ]
  },
  {
   "cell_type": "code",
   "execution_count": 36,
   "metadata": {},
   "outputs": [],
   "source": [
    "output_updated = np.zeros((num_data, output_features))\n",
    "for i in range(input_features):\n",
    "    for j in range(output_features):\n",
    "        for d in range(num_data):\n",
    "            output_updated[d,j] = output_updated[d,j] + x[d,i] * w_updated[i,j]"
   ]
  },
  {
   "cell_type": "code",
   "execution_count": 37,
   "metadata": {
    "scrolled": true
   },
   "outputs": [
    {
     "data": {
      "text/plain": [
       "array([[ 0.,  4., -4.,  4.],\n",
       "       [-3.,  0., -6.,  6.],\n",
       "       [-1.,  2., -4.,  4.]])"
      ]
     },
     "execution_count": 37,
     "metadata": {},
     "output_type": "execute_result"
    }
   ],
   "source": [
    "output"
   ]
  },
  {
   "cell_type": "code",
   "execution_count": 38,
   "metadata": {},
   "outputs": [
    {
     "data": {
      "text/plain": [
       "array([[-0.04,  0.62, -0.04, -0.21],\n",
       "       [ 0.67, -0.33,  0.3 , -0.26],\n",
       "       [ 0.91, -0.72,  0.74, -0.05]])"
      ]
     },
     "execution_count": 38,
     "metadata": {},
     "output_type": "execute_result"
    }
   ],
   "source": [
    "true_value.round(2)"
   ]
  },
  {
   "cell_type": "code",
   "execution_count": 39,
   "metadata": {
    "scrolled": true
   },
   "outputs": [
    {
     "data": {
      "text/plain": [
       "array([[ 0.08,  3.6 , -3.6 ,  3.6 ],\n",
       "       [-2.82, -0.42, -5.58,  5.58],\n",
       "       [-0.9 ,  1.66, -3.66,  3.66]])"
      ]
     },
     "execution_count": 39,
     "metadata": {},
     "output_type": "execute_result"
    }
   ],
   "source": [
    "output_updated"
   ]
  },
  {
   "cell_type": "code",
   "execution_count": 40,
   "metadata": {
    "scrolled": true
   },
   "outputs": [
    {
     "data": {
      "text/plain": [
       "38.088094755935614"
      ]
     },
     "execution_count": 40,
     "metadata": {},
     "output_type": "execute_result"
    }
   ],
   "source": [
    "L_updated = np.abs(output_updated - true_value).sum()\n",
    "L_updated"
   ]
  },
  {
   "cell_type": "code",
   "execution_count": 41,
   "metadata": {},
   "outputs": [
    {
     "data": {
      "text/plain": [
       "41.578510114266535"
      ]
     },
     "execution_count": 41,
     "metadata": {},
     "output_type": "execute_result"
    }
   ],
   "source": [
    "L"
   ]
  },
  {
   "cell_type": "code",
   "execution_count": 42,
   "metadata": {},
   "outputs": [],
   "source": [
    "# Yey! The loss went down.\n",
    "# And some explanation about how dL_dx could be used to \n",
    "# backpropogated and compute dL_d parameters of function that computed x if x was a hidden layer"
   ]
  }
 ],
 "metadata": {
  "kernelspec": {
   "display_name": "Python 3",
   "language": "python",
   "name": "python3"
  },
  "language_info": {
   "codemirror_mode": {
    "name": "ipython",
    "version": 3
   },
   "file_extension": ".py",
   "mimetype": "text/x-python",
   "name": "python",
   "nbconvert_exporter": "python",
   "pygments_lexer": "ipython3",
   "version": "3.7.3"
  }
 },
 "nbformat": 4,
 "nbformat_minor": 2
}
