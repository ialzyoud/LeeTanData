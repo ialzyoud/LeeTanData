{
 "cells": [
  {
   "cell_type": "code",
   "execution_count": 34,
   "metadata": {},
   "outputs": [],
   "source": [
    "import numpy as np\n",
    "import pandas as pd\n",
    "import matplotlib.pyplot as plt\n",
    "from sklearn.neighbors import KNeighborsRegressor\n",
    "from sklearn.preprocessing import Imputer\n",
    "import pdb\n",
    "import multiprocessing as mp\n"
   ]
  },
  {
   "cell_type": "code",
   "execution_count": null,
   "metadata": {},
   "outputs": [],
   "source": []
  },
  {
   "cell_type": "code",
   "execution_count": 35,
   "metadata": {},
   "outputs": [],
   "source": [
    "class KNNImputer:\n",
    "    def __init__(self):\n",
    "        self.regressors = {}\n",
    "        \n",
    "    @staticmethod\n",
    "    def train_one_regreessor(df, df_full_data, col):\n",
    "        input_features = df_full_data[[c for c in df.columns if c != col]]\n",
    "        output_features = df_full_data[col]\n",
    "        regressor = KNeighborsRegressor()\n",
    "        regressor.fit(input_features, output_features)\n",
    "        return regressor\n",
    "        \n",
    "    def fit(self,df):\n",
    "        self.imputer = Imputer().fit(df)\n",
    "        df_full_data = df.dropna(axis=0)\n",
    "        for col in df.columns:\n",
    "            self.regressors[col] = self.train_one_regreessor(df, df_full_data, col)\n",
    "            \n",
    "    def fill_in(self,df):\n",
    "        dfnull = pd.isnull(df)\n",
    "        df_filled_in = pd.DataFrame(self.imputer.transform(df), columns = df.columns)\n",
    "        \n",
    "        for col in df.columns:\n",
    "            cols = [c for c in df.columns if c != col]\n",
    "            input_features = df_filled_in[cols]\n",
    "            output_features = df[col]\n",
    "            output_missing = dfnull[col]\n",
    "            if output_missing.sum() > 0:\n",
    "                regressor = self.regressors[col]\n",
    "                df.loc[output_missing, col] = regressor.predict(input_features[output_missing])\n",
    "            \n",
    "    \n",
    "    "
   ]
  },
  {
   "cell_type": "code",
   "execution_count": 36,
   "metadata": {},
   "outputs": [],
   "source": [
    "if __name__ == '__main__':\n",
    "    df = pd.read_csv('ListingsAndSales.csv',parse_dates=['ListingDate', 'SalesDate'])\n",
    "    df = df.select_dtypes(include=[np.number])\n",
    "    imputer = KNNImputer()\n",
    "    imputer.fit(df)\n",
    "    imputer.fill_in(df)\n",
    "    df.isnull().sum()"
   ]
  },
  {
   "cell_type": "code",
   "execution_count": null,
   "metadata": {},
   "outputs": [],
   "source": []
  }
 ],
 "metadata": {
  "kernelspec": {
   "display_name": "Python 3",
   "language": "python",
   "name": "python3"
  },
  "language_info": {
   "codemirror_mode": {
    "name": "ipython",
    "version": 3
   },
   "file_extension": ".py",
   "mimetype": "text/x-python",
   "name": "python",
   "nbconvert_exporter": "python",
   "pygments_lexer": "ipython3",
   "version": "3.6.6"
  }
 },
 "nbformat": 4,
 "nbformat_minor": 2
}
