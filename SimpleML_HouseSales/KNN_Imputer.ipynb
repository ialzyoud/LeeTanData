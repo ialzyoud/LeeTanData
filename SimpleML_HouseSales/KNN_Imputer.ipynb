{
 "cells": [
  {
   "cell_type": "code",
   "execution_count": 1,
   "metadata": {},
   "outputs": [],
   "source": [
    "import numpy as np\n",
    "import pandas as pd\n",
    "import matplotlib.pyplot as plt\n",
    "from sklearn.neighbors import KNeighborsRegressor\n",
    "from sklearn.preprocessing import Imputer\n",
    "import pdb\n"
   ]
  },
  {
   "cell_type": "code",
   "execution_count": 2,
   "metadata": {},
   "outputs": [],
   "source": [
    "df = pd.read_csv('ListingsAndSales.csv',parse_dates=['ListingDate', 'SalesDate'])"
   ]
  },
  {
   "cell_type": "code",
   "execution_count": 3,
   "metadata": {},
   "outputs": [],
   "source": [
    "class KNNImputer:\n",
    "    def __init__(self):\n",
    "        self.regressors = {}\n",
    "        \n",
    "    def fit(self,df):\n",
    "        self.imputer = Imputer().fit(df)\n",
    "        df_full_data = df.dropna(axis=0)\n",
    "        for col in df.columns:\n",
    "            input_features = df_full_data[[c for c in df.columns if c != col]]\n",
    "            output_features = df_full_data[col]\n",
    "            regressor = KNeighborsRegressor()\n",
    "            regressor.fit(input_features, output_features)\n",
    "            self.regressors[col] = regressor\n",
    "            \n",
    "    def fill_in(self,df):\n",
    "        dfnull = pd.isnull(df)\n",
    "        df_filled_in = pd.DataFrame(self.imputer.transform(df), columns = df.columns)\n",
    "        \n",
    "        for col in df.columns:\n",
    "            cols = [c for c in df.columns if c != col]\n",
    "            input_features = df_filled_in[cols]\n",
    "            output_features = df[col]\n",
    "            output_missing = dfnull[col]\n",
    "            if output_missing.sum() > 0:\n",
    "                regressor = self.regressors[col]\n",
    "                df.loc[output_missing, col] = regressor.predict(input_features[output_missing])\n",
    "            \n",
    "    \n",
    "    "
   ]
  },
  {
   "cell_type": "code",
   "execution_count": null,
   "metadata": {},
   "outputs": [],
   "source": []
  },
  {
   "cell_type": "code",
   "execution_count": 4,
   "metadata": {},
   "outputs": [],
   "source": [
    "df = df.select_dtypes(include=[np.number])"
   ]
  },
  {
   "cell_type": "code",
   "execution_count": 5,
   "metadata": {},
   "outputs": [],
   "source": [
    "imputer = KNNImputer()"
   ]
  },
  {
   "cell_type": "code",
   "execution_count": 6,
   "metadata": {},
   "outputs": [],
   "source": [
    "imputer.fit(df)"
   ]
  },
  {
   "cell_type": "code",
   "execution_count": 7,
   "metadata": {},
   "outputs": [],
   "source": [
    "imputer.fill_in(df)"
   ]
  },
  {
   "cell_type": "code",
   "execution_count": 8,
   "metadata": {},
   "outputs": [
    {
     "data": {
      "text/plain": [
       "ListPrice             0\n",
       "SaleDollarCnt         0\n",
       "ZestimateDollarCnt    0\n",
       "BedroomCnt            0\n",
       "BathroomCnt           0\n",
       "FinishedSquareFeet    0\n",
       "YearBuilt             0\n",
       "MajorRemodelYear      0\n",
       "StoryCnt              0\n",
       "RoomTotalCnt          0\n",
       "SFR                   0\n",
       "Latitude              0\n",
       "Longitude             0\n",
       "PageViews             0\n",
       "dtype: int64"
      ]
     },
     "execution_count": 8,
     "metadata": {},
     "output_type": "execute_result"
    }
   ],
   "source": [
    "df.isnull().sum()"
   ]
  },
  {
   "cell_type": "code",
   "execution_count": 9,
   "metadata": {},
   "outputs": [
    {
     "ename": "SyntaxError",
     "evalue": "'break' outside loop (<ipython-input-9-6aaf1f276005>, line 1)",
     "output_type": "error",
     "traceback": [
      "\u001b[0;36m  File \u001b[0;32m\"<ipython-input-9-6aaf1f276005>\"\u001b[0;36m, line \u001b[0;32m1\u001b[0m\n\u001b[0;31m    break\u001b[0m\n\u001b[0m         ^\u001b[0m\n\u001b[0;31mSyntaxError\u001b[0m\u001b[0;31m:\u001b[0m 'break' outside loop\n"
     ]
    }
   ],
   "source": [
    "break"
   ]
  },
  {
   "cell_type": "code",
   "execution_count": null,
   "metadata": {},
   "outputs": [],
   "source": []
  },
  {
   "cell_type": "code",
   "execution_count": null,
   "metadata": {},
   "outputs": [],
   "source": [
    "regressors = {}\n",
    "cols = df.columns\n",
    "for col in cols:\n",
    "    input_features = df[[c for c in cols if c != col]]\n",
    "    output_features = df[col]\n",
    "    regressor = KNeighborsregressor()\n",
    "    regressor.fit(input_features, output_features)\n",
    "    regressors[col] = regressor"
   ]
  },
  {
   "cell_type": "code",
   "execution_count": null,
   "metadata": {},
   "outputs": [],
   "source": [
    "dfnull = pd.isnull(df)"
   ]
  },
  {
   "cell_type": "code",
   "execution_count": null,
   "metadata": {},
   "outputs": [],
   "source": [
    "dfnull"
   ]
  },
  {
   "cell_type": "code",
   "execution_count": null,
   "metadata": {
    "scrolled": true
   },
   "outputs": [],
   "source": [
    "regressors"
   ]
  },
  {
   "cell_type": "code",
   "execution_count": null,
   "metadata": {},
   "outputs": [],
   "source": []
  }
 ],
 "metadata": {
  "kernelspec": {
   "display_name": "Python 3",
   "language": "python",
   "name": "python3"
  },
  "language_info": {
   "codemirror_mode": {
    "name": "ipython",
    "version": 3
   },
   "file_extension": ".py",
   "mimetype": "text/x-python",
   "name": "python",
   "nbconvert_exporter": "python",
   "pygments_lexer": "ipython3",
   "version": "3.6.6"
  }
 },
 "nbformat": 4,
 "nbformat_minor": 2
}
