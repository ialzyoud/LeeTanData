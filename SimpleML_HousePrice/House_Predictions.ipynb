{
 "cells": [
  {
   "cell_type": "code",
   "execution_count": 1,
   "metadata": {},
   "outputs": [
    {
     "name": "stderr",
     "output_type": "stream",
     "text": [
      "/home/lee/anaconda3/lib/python3.6/site-packages/h5py/__init__.py:36: FutureWarning: Conversion of the second argument of issubdtype from `float` to `np.floating` is deprecated. In future, it will be treated as `np.float64 == np.dtype(float).type`.\n",
      "  from ._conv import register_converters as _register_converters\n"
     ]
    },
    {
     "ename": "AttributeError",
     "evalue": "module 'os' has no attribute 'makedir'",
     "output_type": "error",
     "traceback": [
      "\u001b[0;31m---------------------------------------------------------------------------\u001b[0m",
      "\u001b[0;31mAttributeError\u001b[0m                            Traceback (most recent call last)",
      "\u001b[0;32m<ipython-input-1-e6fbc6e38e7b>\u001b[0m in \u001b[0;36m<module>\u001b[0;34m()\u001b[0m\n\u001b[1;32m     11\u001b[0m \u001b[0mimagedir\u001b[0m \u001b[0;34m=\u001b[0m \u001b[0;34m'images'\u001b[0m\u001b[0;34m\u001b[0m\u001b[0m\n\u001b[1;32m     12\u001b[0m \u001b[0;32mif\u001b[0m \u001b[0;32mnot\u001b[0m \u001b[0mos\u001b[0m\u001b[0;34m.\u001b[0m\u001b[0mpath\u001b[0m\u001b[0;34m.\u001b[0m\u001b[0misdir\u001b[0m\u001b[0;34m(\u001b[0m\u001b[0mimagedir\u001b[0m\u001b[0;34m)\u001b[0m\u001b[0;34m:\u001b[0m\u001b[0;34m\u001b[0m\u001b[0m\n\u001b[0;32m---> 13\u001b[0;31m     \u001b[0mos\u001b[0m\u001b[0;34m.\u001b[0m\u001b[0mmakedir\u001b[0m\u001b[0;34m(\u001b[0m\u001b[0mimagedir\u001b[0m\u001b[0;34m)\u001b[0m\u001b[0;34m\u001b[0m\u001b[0m\n\u001b[0m\u001b[1;32m     14\u001b[0m \u001b[0;31m#For numeric stability\u001b[0m\u001b[0;34m\u001b[0m\u001b[0;34m\u001b[0m\u001b[0m\n\u001b[1;32m     15\u001b[0m \u001b[0mEPSILON\u001b[0m \u001b[0;34m=\u001b[0m \u001b[0;36m1e-10\u001b[0m\u001b[0;34m\u001b[0m\u001b[0m\n",
      "\u001b[0;31mAttributeError\u001b[0m: module 'os' has no attribute 'makedir'"
     ]
    }
   ],
   "source": [
    "import numpy as np\n",
    "import pandas as pd\n",
    "from sklearn.linear_model import LinearRegression\n",
    "from sklearn.preprocessing import StandardScaler\n",
    "import matplotlib.pyplot as plt\n",
    "import tensorflow as tf\n",
    "pd.set_option(\"display.max_columns\", 200)\n",
    "from sklearn.metrics import r2_score\n",
    "import os\n",
    "\n",
    "imagedir = 'images'\n",
    "if not os.path.isdir(imagedir):\n",
    "    os.mkdir(imagedir)\n",
    "#For numeric stability\n",
    "EPSILON = 1e-10\n",
    "\n",
    "df = pd.read_csv('ListingsAndSales.csv')\n",
    "#not sold flag\n",
    "\n",
    "df['NotSoldFlag'] = 0\n",
    "df.loc[df['SalesDate'].isnull() == True, 'NotSoldFlag'] = 1\n",
    "print('percent not yet sold:', df['NotSoldFlag'].mean())\n",
    "\n",
    "df.ListingDate, df.SalesDate = [pd.to_datetime(col) for col in [df.ListingDate, df.SalesDate]]\n",
    "df.SalesDate = df.SalesDate.fillna(df.SalesDate.max())\n",
    "\n",
    "#Get day of dataset for each sample\n",
    "df['ListingDay'] = (df.ListingDate - df.ListingDate.min()).dt.days\n",
    "df = df.sort_values('ListingDay')\n",
    "\n",
    "#calculate days it took to sell the listing if it's sold\n",
    "df['DaysSold'] = (df.SalesDate - df.ListingDate).dt.days.astype(float) + 1\n",
    "\n",
    "#loop through the variables and replace missing values with avg and create dummy variables\n",
    "col_dates = ['ListingDate', 'SalesDate']\n",
    "for col in df.columns:\n",
    "    if not col in col_dates:\n",
    "        if df[col].isnull().sum(axis=0) > 0:\n",
    "            df[col + \"_null_flag\"] = (df[col].isnull())\n",
    "            col_avg = df.loc[df[col].isnull() == False, col].mean()\n",
    "            df[col] = df[col].fillna(col_avg)\n",
    "\n",
    "#Columns to use as regressors\n",
    "X = df.drop(['DaysSold', 'ListingDate', 'SalesDate', 'NotSoldFlag'], axis=1)\n",
    "\n",
    "#Column to use as target\n",
    "Y = df[['DaysSold']].as_matrix().astype(np.float32)\n",
    "\n",
    "scaler = StandardScaler()\n",
    "X = pd.DataFrame(\n",
    "    scaler.fit_transform(X), columns=X.columns).as_matrix().astype(np.float32)\n",
    "sold = df['NotSoldFlag'].as_matrix().astype(np.float32)\n",
    "\n",
    "class Model():\n",
    "    def __init__(self, input_size, layer_sizes):\n",
    "        self.input_size = input_size\n",
    "        self.layer_sizes = layer_sizes\n",
    "\n",
    "        self.sold = tf.placeholder(tf.float32, shape=(None))\n",
    "        self.x = tf.placeholder(tf.float32, shape=(None, input_size))\n",
    "        self.y = tf.placeholder(tf.float32, shape=(None))\n",
    "\n",
    "        self.layers = [self.x]\n",
    "        for layer_size in layer_sizes:\n",
    "            next_layer = tf.nn.leaky_relu(\n",
    "                tf.layers.dense(self.layers[-1], layer_size))\n",
    "            self.layers.append(next_layer)\n",
    "\n",
    "        self.output = tf.nn.softplus(tf.layers.dense(self.layers[-1], 1))\n",
    "\n",
    "        self.loss_indicator = (tf.cast(self.output < self.y, tf.float32) *\n",
    "                               (1 - self.sold) + self.sold)\n",
    "        loss_numerator = tf.reduce_sum(\n",
    "            tf.square(self.y - self.output) * self.loss_indicator)\n",
    "        loss_denominator = (tf.reduce_sum(self.loss_indicator)) + EPSILON\n",
    "        self.loss = loss_numerator / loss_denominator\n",
    "\n",
    "        self.optimizer = tf.train.AdamOptimizer().minimize(self.loss)\n",
    "        \n",
    "        self.trn_losses = []\n",
    "        self.val_losses = []\n",
    "        self.r2_scores = []\n",
    "\n",
    "    def train(self, X, Y, sold, epochs):\n",
    "        sess = tf.Session(config=tf.ConfigProto(device_count={'GPU': 0}))\n",
    "        sess.run(tf.global_variables_initializer())\n",
    "        n_samples = X.shape[0]\n",
    "        trn_samples = (n_samples * 4) // 5\n",
    "        samples = np.arange(n_samples)\n",
    "        trn_s = np.random.choice(samples, size=trn_samples, replace=False)\n",
    "        val_samples = [s for s in samples if s not in trn_s]\n",
    "        X_train, X_test = X[trn_s], X[val_samples]\n",
    "        Y_train, Y_test = Y[trn_s], Y[val_samples]\n",
    "        sold_train, sold_test = sold[trn_s], sold[val_samples]\n",
    "        bs = 64\n",
    "        num_batches = (trn_samples // bs) + 1\n",
    "        for epoch in range(epochs):\n",
    "            trn_loss = []\n",
    "            order = np.arange(trn_samples)\n",
    "            np.random.shuffle(order)\n",
    "            for itr in range(trn_samples // bs):\n",
    "                rows = order[itr * bs:(itr + 1) * bs]\n",
    "                if itr + 1 == num_batches:\n",
    "                    rows = order[itr * bs:]\n",
    "                X_active, Y_active, Sold_active = [mat[rows] for mat in [X_train, Y_train, sold_train]]\n",
    "                feed_dict = {\n",
    "                    self.x: X_active,\n",
    "                    self.y: Y_active,\n",
    "                    self.sold: Sold_active\n",
    "                }\n",
    "                _, loss, yhat = sess.run(\n",
    "                    [self.optimizer, self.loss, self.output], feed_dict)\n",
    "                trn_loss.append(loss)\n",
    "            if epoch % 2 == 0:\n",
    "                trn_loss_mean = np.mean(trn_loss)\n",
    "                self.trn_losses.append(trn_loss_mean)\n",
    "                feed_dict = {\n",
    "                    self.x: X_test,\n",
    "                    self.y: Y_test,\n",
    "                    self.sold: sold_test\n",
    "                }\n",
    "                val_loss, yhat = sess.run([self.loss, self.output], feed_dict)\n",
    "                self.val_losses.append(val_loss)\n",
    "                self.r2_scores.append(r2_score(Y_test, yhat))\n",
    "            if epoch % 10 == 0:\n",
    "                print('epoch:', epoch, 'train loss: ', trn_loss_mean,\n",
    "                      'val loss: ', val_loss, 'r2_score:', self.r2_scores[-1])\n",
    "\n",
    "    def visualize(self, name):\n",
    "        plt.plot(self.trn_losses, label='train loss')\n",
    "        plt.plot(self.val_losses, label='test loss')\n",
    "        plt.title('least square losses')\n",
    "        plt.legend()\n",
    "        plt.savefig(imagedir + '/' + name + 'losses.jpg')\n",
    "        plt.show()\n",
    "        plt.plot(self.r2_scores, label='validation r2_scores')\n",
    "        plt.legend()\n",
    "        plt.title('r2 scores')\n",
    "        plt.savefig(imagedir + '/' + name + 'r2scores.jpg')\n",
    "        plt.show()\n",
    "\n",
    "n_features = X.shape[1]"
   ]
  },
  {
   "cell_type": "code",
   "execution_count": null,
   "metadata": {},
   "outputs": [],
   "source": [
    "model = Model(n_features, layer_sizes=[])\n",
    "model.train(X, Y, sold, epochs=100)\n",
    "model.visualize('linear_regression')"
   ]
  },
  {
   "cell_type": "code",
   "execution_count": null,
   "metadata": {},
   "outputs": [],
   "source": [
    "model = Model(n_features, layer_sizes=[64])\n",
    "model.train(X, Y, sold, epochs=100)\n",
    "model.visualize('one_hidden_layer')"
   ]
  },
  {
   "cell_type": "code",
   "execution_count": null,
   "metadata": {},
   "outputs": [],
   "source": [
    "model = Model(n_features, layer_sizes=[64, 64])\n",
    "model.train(X, Y, sold, epochs=100)\n",
    "model.visualize('two_hidden_layers')"
   ]
  },
  {
   "cell_type": "code",
   "execution_count": null,
   "metadata": {
    "collapsed": true
   },
   "outputs": [],
   "source": []
  },
  {
   "cell_type": "code",
   "execution_count": null,
   "metadata": {
    "collapsed": true
   },
   "outputs": [],
   "source": []
  },
  {
   "cell_type": "code",
   "execution_count": null,
   "metadata": {
    "collapsed": true
   },
   "outputs": [],
   "source": []
  },
  {
   "cell_type": "code",
   "execution_count": null,
   "metadata": {
    "collapsed": true
   },
   "outputs": [],
   "source": []
  },
  {
   "cell_type": "code",
   "execution_count": null,
   "metadata": {
    "collapsed": true
   },
   "outputs": [],
   "source": []
  }
 ],
 "metadata": {
  "kernelspec": {
   "display_name": "Python 3",
   "language": "python",
   "name": "python3"
  },
  "language_info": {
   "codemirror_mode": {
    "name": "ipython",
    "version": 3
   },
   "file_extension": ".py",
   "mimetype": "text/x-python",
   "name": "python",
   "nbconvert_exporter": "python",
   "pygments_lexer": "ipython3",
   "version": "3.6.4"
  }
 },
 "nbformat": 4,
 "nbformat_minor": 2
}
